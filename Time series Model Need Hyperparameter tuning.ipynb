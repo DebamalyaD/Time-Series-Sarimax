{
 "cells": [
  {
   "cell_type": "code",
   "execution_count": 1,
   "id": "dcbb7cf2",
   "metadata": {},
   "outputs": [],
   "source": [
    "import numpy as np\n",
    "import pandas as pd\n",
    "import matplotlib.pyplot as plt\n",
    "import seaborn as sns\n",
    "%matplotlib inline\n",
    "ch = pd.read_csv(\"perrin-freres-monthly-champagne-.csv\")"
   ]
  },
  {
   "cell_type": "code",
   "execution_count": 2,
   "id": "6a204c5e",
   "metadata": {},
   "outputs": [
    {
     "data": {
      "text/html": [
       "<div>\n",
       "<style scoped>\n",
       "    .dataframe tbody tr th:only-of-type {\n",
       "        vertical-align: middle;\n",
       "    }\n",
       "\n",
       "    .dataframe tbody tr th {\n",
       "        vertical-align: top;\n",
       "    }\n",
       "\n",
       "    .dataframe thead th {\n",
       "        text-align: right;\n",
       "    }\n",
       "</style>\n",
       "<table border=\"1\" class=\"dataframe\">\n",
       "  <thead>\n",
       "    <tr style=\"text-align: right;\">\n",
       "      <th></th>\n",
       "      <th>Month</th>\n",
       "      <th>Perrin Freres monthly champagne sales millions ?64-?72</th>\n",
       "    </tr>\n",
       "  </thead>\n",
       "  <tbody>\n",
       "    <tr>\n",
       "      <th>0</th>\n",
       "      <td>1964-01</td>\n",
       "      <td>2815.0</td>\n",
       "    </tr>\n",
       "    <tr>\n",
       "      <th>1</th>\n",
       "      <td>1964-02</td>\n",
       "      <td>2672.0</td>\n",
       "    </tr>\n",
       "    <tr>\n",
       "      <th>2</th>\n",
       "      <td>1964-03</td>\n",
       "      <td>2755.0</td>\n",
       "    </tr>\n",
       "    <tr>\n",
       "      <th>3</th>\n",
       "      <td>1964-04</td>\n",
       "      <td>2721.0</td>\n",
       "    </tr>\n",
       "    <tr>\n",
       "      <th>4</th>\n",
       "      <td>1964-05</td>\n",
       "      <td>2946.0</td>\n",
       "    </tr>\n",
       "  </tbody>\n",
       "</table>\n",
       "</div>"
      ],
      "text/plain": [
       "     Month  Perrin Freres monthly champagne sales millions ?64-?72\n",
       "0  1964-01                                             2815.0     \n",
       "1  1964-02                                             2672.0     \n",
       "2  1964-03                                             2755.0     \n",
       "3  1964-04                                             2721.0     \n",
       "4  1964-05                                             2946.0     "
      ]
     },
     "execution_count": 2,
     "metadata": {},
     "output_type": "execute_result"
    }
   ],
   "source": [
    "ch.head()"
   ]
  },
  {
   "cell_type": "code",
   "execution_count": 3,
   "id": "7fc529ae",
   "metadata": {},
   "outputs": [
    {
     "data": {
      "text/html": [
       "<div>\n",
       "<style scoped>\n",
       "    .dataframe tbody tr th:only-of-type {\n",
       "        vertical-align: middle;\n",
       "    }\n",
       "\n",
       "    .dataframe tbody tr th {\n",
       "        vertical-align: top;\n",
       "    }\n",
       "\n",
       "    .dataframe thead th {\n",
       "        text-align: right;\n",
       "    }\n",
       "</style>\n",
       "<table border=\"1\" class=\"dataframe\">\n",
       "  <thead>\n",
       "    <tr style=\"text-align: right;\">\n",
       "      <th></th>\n",
       "      <th>Month</th>\n",
       "      <th>Perrin Freres monthly champagne sales millions ?64-?72</th>\n",
       "    </tr>\n",
       "  </thead>\n",
       "  <tbody>\n",
       "    <tr>\n",
       "      <th>102</th>\n",
       "      <td>1972-07</td>\n",
       "      <td>4298.0</td>\n",
       "    </tr>\n",
       "    <tr>\n",
       "      <th>103</th>\n",
       "      <td>1972-08</td>\n",
       "      <td>1413.0</td>\n",
       "    </tr>\n",
       "    <tr>\n",
       "      <th>104</th>\n",
       "      <td>1972-09</td>\n",
       "      <td>5877.0</td>\n",
       "    </tr>\n",
       "    <tr>\n",
       "      <th>105</th>\n",
       "      <td>NaN</td>\n",
       "      <td>NaN</td>\n",
       "    </tr>\n",
       "    <tr>\n",
       "      <th>106</th>\n",
       "      <td>Perrin Freres monthly champagne sales millions...</td>\n",
       "      <td>NaN</td>\n",
       "    </tr>\n",
       "  </tbody>\n",
       "</table>\n",
       "</div>"
      ],
      "text/plain": [
       "                                                 Month  \\\n",
       "102                                            1972-07   \n",
       "103                                            1972-08   \n",
       "104                                            1972-09   \n",
       "105                                                NaN   \n",
       "106  Perrin Freres monthly champagne sales millions...   \n",
       "\n",
       "     Perrin Freres monthly champagne sales millions ?64-?72  \n",
       "102                                             4298.0       \n",
       "103                                             1413.0       \n",
       "104                                             5877.0       \n",
       "105                                                NaN       \n",
       "106                                                NaN       "
      ]
     },
     "execution_count": 3,
     "metadata": {},
     "output_type": "execute_result"
    }
   ],
   "source": [
    "ch.tail()"
   ]
  },
  {
   "cell_type": "code",
   "execution_count": 4,
   "id": "d07a6f34",
   "metadata": {},
   "outputs": [],
   "source": [
    "ch.columns = [\"Month\",\"Sales\"]"
   ]
  },
  {
   "cell_type": "code",
   "execution_count": 5,
   "id": "0e0f28fe",
   "metadata": {},
   "outputs": [
    {
     "data": {
      "text/html": [
       "<div>\n",
       "<style scoped>\n",
       "    .dataframe tbody tr th:only-of-type {\n",
       "        vertical-align: middle;\n",
       "    }\n",
       "\n",
       "    .dataframe tbody tr th {\n",
       "        vertical-align: top;\n",
       "    }\n",
       "\n",
       "    .dataframe thead th {\n",
       "        text-align: right;\n",
       "    }\n",
       "</style>\n",
       "<table border=\"1\" class=\"dataframe\">\n",
       "  <thead>\n",
       "    <tr style=\"text-align: right;\">\n",
       "      <th></th>\n",
       "      <th>Month</th>\n",
       "      <th>Sales</th>\n",
       "    </tr>\n",
       "  </thead>\n",
       "  <tbody>\n",
       "    <tr>\n",
       "      <th>0</th>\n",
       "      <td>1964-01</td>\n",
       "      <td>2815.0</td>\n",
       "    </tr>\n",
       "    <tr>\n",
       "      <th>1</th>\n",
       "      <td>1964-02</td>\n",
       "      <td>2672.0</td>\n",
       "    </tr>\n",
       "    <tr>\n",
       "      <th>2</th>\n",
       "      <td>1964-03</td>\n",
       "      <td>2755.0</td>\n",
       "    </tr>\n",
       "    <tr>\n",
       "      <th>3</th>\n",
       "      <td>1964-04</td>\n",
       "      <td>2721.0</td>\n",
       "    </tr>\n",
       "    <tr>\n",
       "      <th>4</th>\n",
       "      <td>1964-05</td>\n",
       "      <td>2946.0</td>\n",
       "    </tr>\n",
       "  </tbody>\n",
       "</table>\n",
       "</div>"
      ],
      "text/plain": [
       "     Month   Sales\n",
       "0  1964-01  2815.0\n",
       "1  1964-02  2672.0\n",
       "2  1964-03  2755.0\n",
       "3  1964-04  2721.0\n",
       "4  1964-05  2946.0"
      ]
     },
     "execution_count": 5,
     "metadata": {},
     "output_type": "execute_result"
    }
   ],
   "source": [
    "ch.head()"
   ]
  },
  {
   "cell_type": "code",
   "execution_count": 6,
   "id": "062265ec",
   "metadata": {},
   "outputs": [
    {
     "data": {
      "text/plain": [
       "Month    1\n",
       "Sales    2\n",
       "dtype: int64"
      ]
     },
     "execution_count": 6,
     "metadata": {},
     "output_type": "execute_result"
    }
   ],
   "source": [
    "ch.isnull().sum()"
   ]
  },
  {
   "cell_type": "code",
   "execution_count": 7,
   "id": "ef61992b",
   "metadata": {},
   "outputs": [],
   "source": [
    "ch.drop(106,axis=0,inplace=True)"
   ]
  },
  {
   "cell_type": "code",
   "execution_count": 8,
   "id": "edf4e266",
   "metadata": {},
   "outputs": [],
   "source": [
    "ch.drop(105,axis=0,inplace=True)"
   ]
  },
  {
   "cell_type": "code",
   "execution_count": 9,
   "id": "8a56038a",
   "metadata": {},
   "outputs": [
    {
     "name": "stdout",
     "output_type": "stream",
     "text": [
      "<class 'pandas.core.frame.DataFrame'>\n",
      "Int64Index: 105 entries, 0 to 104\n",
      "Data columns (total 2 columns):\n",
      " #   Column  Non-Null Count  Dtype  \n",
      "---  ------  --------------  -----  \n",
      " 0   Month   105 non-null    object \n",
      " 1   Sales   105 non-null    float64\n",
      "dtypes: float64(1), object(1)\n",
      "memory usage: 2.5+ KB\n"
     ]
    }
   ],
   "source": [
    "ch.info()"
   ]
  },
  {
   "cell_type": "code",
   "execution_count": 10,
   "id": "e0a2563e",
   "metadata": {},
   "outputs": [],
   "source": [
    "ch[\"Month\"] = pd.to_datetime(ch[\"Month\"])"
   ]
  },
  {
   "cell_type": "code",
   "execution_count": 11,
   "id": "5c6393e6",
   "metadata": {},
   "outputs": [],
   "source": [
    "ch[\"Year\"] = ch[\"Month\"].dt.year\n",
    "ch[\"Months\"] = ch[\"Month\"].dt.month"
   ]
  },
  {
   "cell_type": "code",
   "execution_count": 12,
   "id": "6ec124e8",
   "metadata": {},
   "outputs": [
    {
     "data": {
      "text/html": [
       "<div>\n",
       "<style scoped>\n",
       "    .dataframe tbody tr th:only-of-type {\n",
       "        vertical-align: middle;\n",
       "    }\n",
       "\n",
       "    .dataframe tbody tr th {\n",
       "        vertical-align: top;\n",
       "    }\n",
       "\n",
       "    .dataframe thead th {\n",
       "        text-align: right;\n",
       "    }\n",
       "</style>\n",
       "<table border=\"1\" class=\"dataframe\">\n",
       "  <thead>\n",
       "    <tr style=\"text-align: right;\">\n",
       "      <th></th>\n",
       "      <th>Month</th>\n",
       "      <th>Sales</th>\n",
       "      <th>Year</th>\n",
       "      <th>Months</th>\n",
       "    </tr>\n",
       "  </thead>\n",
       "  <tbody>\n",
       "    <tr>\n",
       "      <th>0</th>\n",
       "      <td>1964-01-01</td>\n",
       "      <td>2815.0</td>\n",
       "      <td>1964</td>\n",
       "      <td>1</td>\n",
       "    </tr>\n",
       "    <tr>\n",
       "      <th>1</th>\n",
       "      <td>1964-02-01</td>\n",
       "      <td>2672.0</td>\n",
       "      <td>1964</td>\n",
       "      <td>2</td>\n",
       "    </tr>\n",
       "    <tr>\n",
       "      <th>2</th>\n",
       "      <td>1964-03-01</td>\n",
       "      <td>2755.0</td>\n",
       "      <td>1964</td>\n",
       "      <td>3</td>\n",
       "    </tr>\n",
       "    <tr>\n",
       "      <th>3</th>\n",
       "      <td>1964-04-01</td>\n",
       "      <td>2721.0</td>\n",
       "      <td>1964</td>\n",
       "      <td>4</td>\n",
       "    </tr>\n",
       "    <tr>\n",
       "      <th>4</th>\n",
       "      <td>1964-05-01</td>\n",
       "      <td>2946.0</td>\n",
       "      <td>1964</td>\n",
       "      <td>5</td>\n",
       "    </tr>\n",
       "  </tbody>\n",
       "</table>\n",
       "</div>"
      ],
      "text/plain": [
       "       Month   Sales  Year  Months\n",
       "0 1964-01-01  2815.0  1964       1\n",
       "1 1964-02-01  2672.0  1964       2\n",
       "2 1964-03-01  2755.0  1964       3\n",
       "3 1964-04-01  2721.0  1964       4\n",
       "4 1964-05-01  2946.0  1964       5"
      ]
     },
     "execution_count": 12,
     "metadata": {},
     "output_type": "execute_result"
    }
   ],
   "source": [
    "ch.head()"
   ]
  },
  {
   "cell_type": "code",
   "execution_count": 13,
   "id": "f6bf6223",
   "metadata": {},
   "outputs": [],
   "source": [
    "df = ch.copy()"
   ]
  },
  {
   "cell_type": "code",
   "execution_count": 14,
   "id": "b641b3c2",
   "metadata": {},
   "outputs": [],
   "source": [
    "df.set_index(\"Year\",inplace=True)"
   ]
  },
  {
   "cell_type": "code",
   "execution_count": 15,
   "id": "da8ef0be",
   "metadata": {},
   "outputs": [
    {
     "data": {
      "text/html": [
       "<div>\n",
       "<style scoped>\n",
       "    .dataframe tbody tr th:only-of-type {\n",
       "        vertical-align: middle;\n",
       "    }\n",
       "\n",
       "    .dataframe tbody tr th {\n",
       "        vertical-align: top;\n",
       "    }\n",
       "\n",
       "    .dataframe thead th {\n",
       "        text-align: right;\n",
       "    }\n",
       "</style>\n",
       "<table border=\"1\" class=\"dataframe\">\n",
       "  <thead>\n",
       "    <tr style=\"text-align: right;\">\n",
       "      <th></th>\n",
       "      <th>Month</th>\n",
       "      <th>Sales</th>\n",
       "      <th>Months</th>\n",
       "    </tr>\n",
       "    <tr>\n",
       "      <th>Year</th>\n",
       "      <th></th>\n",
       "      <th></th>\n",
       "      <th></th>\n",
       "    </tr>\n",
       "  </thead>\n",
       "  <tbody>\n",
       "    <tr>\n",
       "      <th>1964</th>\n",
       "      <td>1964-01-01</td>\n",
       "      <td>2815.0</td>\n",
       "      <td>1</td>\n",
       "    </tr>\n",
       "    <tr>\n",
       "      <th>1964</th>\n",
       "      <td>1964-02-01</td>\n",
       "      <td>2672.0</td>\n",
       "      <td>2</td>\n",
       "    </tr>\n",
       "    <tr>\n",
       "      <th>1964</th>\n",
       "      <td>1964-03-01</td>\n",
       "      <td>2755.0</td>\n",
       "      <td>3</td>\n",
       "    </tr>\n",
       "    <tr>\n",
       "      <th>1964</th>\n",
       "      <td>1964-04-01</td>\n",
       "      <td>2721.0</td>\n",
       "      <td>4</td>\n",
       "    </tr>\n",
       "    <tr>\n",
       "      <th>1964</th>\n",
       "      <td>1964-05-01</td>\n",
       "      <td>2946.0</td>\n",
       "      <td>5</td>\n",
       "    </tr>\n",
       "  </tbody>\n",
       "</table>\n",
       "</div>"
      ],
      "text/plain": [
       "          Month   Sales  Months\n",
       "Year                           \n",
       "1964 1964-01-01  2815.0       1\n",
       "1964 1964-02-01  2672.0       2\n",
       "1964 1964-03-01  2755.0       3\n",
       "1964 1964-04-01  2721.0       4\n",
       "1964 1964-05-01  2946.0       5"
      ]
     },
     "execution_count": 15,
     "metadata": {},
     "output_type": "execute_result"
    }
   ],
   "source": [
    "df.head()"
   ]
  },
  {
   "cell_type": "code",
   "execution_count": null,
   "id": "57a28dce",
   "metadata": {},
   "outputs": [],
   "source": []
  },
  {
   "cell_type": "code",
   "execution_count": null,
   "id": "6574b24b",
   "metadata": {},
   "outputs": [],
   "source": []
  },
  {
   "cell_type": "code",
   "execution_count": 16,
   "id": "25f0826a",
   "metadata": {},
   "outputs": [
    {
     "data": {
      "text/plain": [
       "<AxesSubplot:xlabel='Year'>"
      ]
     },
     "execution_count": 16,
     "metadata": {},
     "output_type": "execute_result"
    },
    {
     "data": {
      "image/png": "[encoded data removed]",
      "text/plain": [
       "<Figure size 432x288 with 1 Axes>"
      ]
     },
     "metadata": {
      "needs_background": "light"
     },
     "output_type": "display_data"
    }
   ],
   "source": [
    "df.plot()"
   ]
  },
  {
   "cell_type": "code",
   "execution_count": 17,
   "id": "89311007",
   "metadata": {},
   "outputs": [],
   "source": [
    "# This shows a seasonal trend"
   ]
  },
  {
   "cell_type": "code",
   "execution_count": null,
   "id": "339396be",
   "metadata": {},
   "outputs": [],
   "source": []
  },
  {
   "cell_type": "code",
   "execution_count": null,
   "id": "94a96c9a",
   "metadata": {},
   "outputs": [],
   "source": []
  },
  {
   "cell_type": "code",
   "execution_count": null,
   "id": "a2813572",
   "metadata": {},
   "outputs": [],
   "source": []
  },
  {
   "cell_type": "code",
   "execution_count": null,
   "id": "6a6668ed",
   "metadata": {},
   "outputs": [],
   "source": []
  },
  {
   "cell_type": "code",
   "execution_count": null,
   "id": "0f86a15b",
   "metadata": {},
   "outputs": [],
   "source": []
  },
  {
   "cell_type": "code",
   "execution_count": null,
   "id": "982227bf",
   "metadata": {},
   "outputs": [],
   "source": []
  },
  {
   "cell_type": "code",
   "execution_count": 18,
   "id": "a244a40c",
   "metadata": {},
   "outputs": [],
   "source": [
    "ch.set_index(\"Month\",inplace=True)"
   ]
  },
  {
   "cell_type": "code",
   "execution_count": 19,
   "id": "a750e546",
   "metadata": {},
   "outputs": [
    {
     "data": {
      "text/html": [
       "<div>\n",
       "<style scoped>\n",
       "    .dataframe tbody tr th:only-of-type {\n",
       "        vertical-align: middle;\n",
       "    }\n",
       "\n",
       "    .dataframe tbody tr th {\n",
       "        vertical-align: top;\n",
       "    }\n",
       "\n",
       "    .dataframe thead th {\n",
       "        text-align: right;\n",
       "    }\n",
       "</style>\n",
       "<table border=\"1\" class=\"dataframe\">\n",
       "  <thead>\n",
       "    <tr style=\"text-align: right;\">\n",
       "      <th></th>\n",
       "      <th>Sales</th>\n",
       "      <th>Year</th>\n",
       "      <th>Months</th>\n",
       "    </tr>\n",
       "    <tr>\n",
       "      <th>Month</th>\n",
       "      <th></th>\n",
       "      <th></th>\n",
       "      <th></th>\n",
       "    </tr>\n",
       "  </thead>\n",
       "  <tbody>\n",
       "    <tr>\n",
       "      <th>1964-01-01</th>\n",
       "      <td>2815.0</td>\n",
       "      <td>1964</td>\n",
       "      <td>1</td>\n",
       "    </tr>\n",
       "    <tr>\n",
       "      <th>1964-02-01</th>\n",
       "      <td>2672.0</td>\n",
       "      <td>1964</td>\n",
       "      <td>2</td>\n",
       "    </tr>\n",
       "    <tr>\n",
       "      <th>1964-03-01</th>\n",
       "      <td>2755.0</td>\n",
       "      <td>1964</td>\n",
       "      <td>3</td>\n",
       "    </tr>\n",
       "    <tr>\n",
       "      <th>1964-04-01</th>\n",
       "      <td>2721.0</td>\n",
       "      <td>1964</td>\n",
       "      <td>4</td>\n",
       "    </tr>\n",
       "    <tr>\n",
       "      <th>1964-05-01</th>\n",
       "      <td>2946.0</td>\n",
       "      <td>1964</td>\n",
       "      <td>5</td>\n",
       "    </tr>\n",
       "  </tbody>\n",
       "</table>\n",
       "</div>"
      ],
      "text/plain": [
       "             Sales  Year  Months\n",
       "Month                           \n",
       "1964-01-01  2815.0  1964       1\n",
       "1964-02-01  2672.0  1964       2\n",
       "1964-03-01  2755.0  1964       3\n",
       "1964-04-01  2721.0  1964       4\n",
       "1964-05-01  2946.0  1964       5"
      ]
     },
     "execution_count": 19,
     "metadata": {},
     "output_type": "execute_result"
    }
   ],
   "source": [
    "ch.head()"
   ]
  },
  {
   "cell_type": "code",
   "execution_count": 20,
   "id": "b365e521",
   "metadata": {},
   "outputs": [
    {
     "data": {
      "text/html": [
       "<div>\n",
       "<style scoped>\n",
       "    .dataframe tbody tr th:only-of-type {\n",
       "        vertical-align: middle;\n",
       "    }\n",
       "\n",
       "    .dataframe tbody tr th {\n",
       "        vertical-align: top;\n",
       "    }\n",
       "\n",
       "    .dataframe thead th {\n",
       "        text-align: right;\n",
       "    }\n",
       "</style>\n",
       "<table border=\"1\" class=\"dataframe\">\n",
       "  <thead>\n",
       "    <tr style=\"text-align: right;\">\n",
       "      <th></th>\n",
       "      <th>Sales</th>\n",
       "      <th>Year</th>\n",
       "      <th>Months</th>\n",
       "    </tr>\n",
       "  </thead>\n",
       "  <tbody>\n",
       "    <tr>\n",
       "      <th>count</th>\n",
       "      <td>105.000000</td>\n",
       "      <td>105.000000</td>\n",
       "      <td>105.000000</td>\n",
       "    </tr>\n",
       "    <tr>\n",
       "      <th>mean</th>\n",
       "      <td>4761.152381</td>\n",
       "      <td>1967.885714</td>\n",
       "      <td>6.371429</td>\n",
       "    </tr>\n",
       "    <tr>\n",
       "      <th>std</th>\n",
       "      <td>2553.502601</td>\n",
       "      <td>2.539360</td>\n",
       "      <td>3.428549</td>\n",
       "    </tr>\n",
       "    <tr>\n",
       "      <th>min</th>\n",
       "      <td>1413.000000</td>\n",
       "      <td>1964.000000</td>\n",
       "      <td>1.000000</td>\n",
       "    </tr>\n",
       "    <tr>\n",
       "      <th>25%</th>\n",
       "      <td>3113.000000</td>\n",
       "      <td>1966.000000</td>\n",
       "      <td>3.000000</td>\n",
       "    </tr>\n",
       "    <tr>\n",
       "      <th>50%</th>\n",
       "      <td>4217.000000</td>\n",
       "      <td>1968.000000</td>\n",
       "      <td>6.000000</td>\n",
       "    </tr>\n",
       "    <tr>\n",
       "      <th>75%</th>\n",
       "      <td>5221.000000</td>\n",
       "      <td>1970.000000</td>\n",
       "      <td>9.000000</td>\n",
       "    </tr>\n",
       "    <tr>\n",
       "      <th>max</th>\n",
       "      <td>13916.000000</td>\n",
       "      <td>1972.000000</td>\n",
       "      <td>12.000000</td>\n",
       "    </tr>\n",
       "  </tbody>\n",
       "</table>\n",
       "</div>"
      ],
      "text/plain": [
       "              Sales         Year      Months\n",
       "count    105.000000   105.000000  105.000000\n",
       "mean    4761.152381  1967.885714    6.371429\n",
       "std     2553.502601     2.539360    3.428549\n",
       "min     1413.000000  1964.000000    1.000000\n",
       "25%     3113.000000  1966.000000    3.000000\n",
       "50%     4217.000000  1968.000000    6.000000\n",
       "75%     5221.000000  1970.000000    9.000000\n",
       "max    13916.000000  1972.000000   12.000000"
      ]
     },
     "execution_count": 20,
     "metadata": {},
     "output_type": "execute_result"
    }
   ],
   "source": [
    "ch.describe()"
   ]
  },
  {
   "cell_type": "code",
   "execution_count": 21,
   "id": "d0077a8b",
   "metadata": {},
   "outputs": [
    {
     "data": {
      "text/plain": [
       "<AxesSubplot:xlabel='Month'>"
      ]
     },
     "execution_count": 21,
     "metadata": {},
     "output_type": "execute_result"
    },
    {
     "data": {
      "image/png": "[encoded data removed]",
      "text/plain": [
       "<Figure size 432x288 with 1 Axes>"
      ]
     },
     "metadata": {
      "needs_background": "light"
     },
     "output_type": "display_data"
    }
   ],
   "source": [
    "ch.plot()"
   ]
  },
  {
   "cell_type": "code",
   "execution_count": 22,
   "id": "23b275bd",
   "metadata": {},
   "outputs": [],
   "source": [
    "# Checking for Stationarity using ADFULLER\n",
    "from statsmodels.tsa.stattools import adfuller"
   ]
  },
  {
   "cell_type": "code",
   "execution_count": 23,
   "id": "57c66bb5",
   "metadata": {},
   "outputs": [
    {
     "data": {
      "text/plain": [
       "(-1.8335930563276237,\n",
       " 0.3639157716602447,\n",
       " 11,\n",
       " 93,\n",
       " {'1%': -3.502704609582561,\n",
       "  '5%': -2.8931578098779522,\n",
       "  '10%': -2.583636712914788},\n",
       " 1478.4633060594724)"
      ]
     },
     "execution_count": 23,
     "metadata": {},
     "output_type": "execute_result"
    }
   ],
   "source": [
    "#HO is not Stationary\n",
    "#H1 it is stationary\n",
    "\n",
    "adfuller(ch[\"Sales\"])"
   ]
  },
  {
   "cell_type": "code",
   "execution_count": 24,
   "id": "f3c6af66",
   "metadata": {},
   "outputs": [],
   "source": [
    "def adfuller_test(sales):\n",
    "    result = adfuller(sales)\n",
    "    labels = [\"ADF Test Stats\",\"pvalue\",\"lags used\",\"No of observations used\"]\n",
    "    for value , label in zip(result,labels):\n",
    "        print(label , str(value))"
   ]
  },
  {
   "cell_type": "code",
   "execution_count": 25,
   "id": "ad9b7fb0",
   "metadata": {},
   "outputs": [
    {
     "name": "stdout",
     "output_type": "stream",
     "text": [
      "ADF Test Stats -1.8335930563276237\n",
      "pvalue 0.3639157716602447\n",
      "lags used 11\n",
      "No of observations used 93\n"
     ]
    }
   ],
   "source": [
    "adfuller_test(ch[\"Sales\"])"
   ]
  },
  {
   "cell_type": "code",
   "execution_count": 26,
   "id": "4aac9c65",
   "metadata": {},
   "outputs": [],
   "source": [
    "ch.drop([\"Year\",\"Months\"],axis=1,inplace=True)"
   ]
  },
  {
   "cell_type": "code",
   "execution_count": 27,
   "id": "bb8c908e",
   "metadata": {},
   "outputs": [],
   "source": [
    "# So the data is not stationary\n",
    "# Since it is a seasonal data we can difference it by 12\n",
    "\n",
    "ch[\"Seasonal First Difference\"] = ch[\"Sales\"]-ch[\"Sales\"].shift(12)"
   ]
  },
  {
   "cell_type": "code",
   "execution_count": 28,
   "id": "82f30920",
   "metadata": {},
   "outputs": [
    {
     "data": {
      "text/html": [
       "<div>\n",
       "<style scoped>\n",
       "    .dataframe tbody tr th:only-of-type {\n",
       "        vertical-align: middle;\n",
       "    }\n",
       "\n",
       "    .dataframe tbody tr th {\n",
       "        vertical-align: top;\n",
       "    }\n",
       "\n",
       "    .dataframe thead th {\n",
       "        text-align: right;\n",
       "    }\n",
       "</style>\n",
       "<table border=\"1\" class=\"dataframe\">\n",
       "  <thead>\n",
       "    <tr style=\"text-align: right;\">\n",
       "      <th></th>\n",
       "      <th>Sales</th>\n",
       "      <th>Seasonal First Difference</th>\n",
       "    </tr>\n",
       "    <tr>\n",
       "      <th>Month</th>\n",
       "      <th></th>\n",
       "      <th></th>\n",
       "    </tr>\n",
       "  </thead>\n",
       "  <tbody>\n",
       "    <tr>\n",
       "      <th>1964-01-01</th>\n",
       "      <td>2815.0</td>\n",
       "      <td>NaN</td>\n",
       "    </tr>\n",
       "    <tr>\n",
       "      <th>1964-02-01</th>\n",
       "      <td>2672.0</td>\n",
       "      <td>NaN</td>\n",
       "    </tr>\n",
       "    <tr>\n",
       "      <th>1964-03-01</th>\n",
       "      <td>2755.0</td>\n",
       "      <td>NaN</td>\n",
       "    </tr>\n",
       "    <tr>\n",
       "      <th>1964-04-01</th>\n",
       "      <td>2721.0</td>\n",
       "      <td>NaN</td>\n",
       "    </tr>\n",
       "    <tr>\n",
       "      <th>1964-05-01</th>\n",
       "      <td>2946.0</td>\n",
       "      <td>NaN</td>\n",
       "    </tr>\n",
       "    <tr>\n",
       "      <th>1964-06-01</th>\n",
       "      <td>3036.0</td>\n",
       "      <td>NaN</td>\n",
       "    </tr>\n",
       "    <tr>\n",
       "      <th>1964-07-01</th>\n",
       "      <td>2282.0</td>\n",
       "      <td>NaN</td>\n",
       "    </tr>\n",
       "    <tr>\n",
       "      <th>1964-08-01</th>\n",
       "      <td>2212.0</td>\n",
       "      <td>NaN</td>\n",
       "    </tr>\n",
       "    <tr>\n",
       "      <th>1964-09-01</th>\n",
       "      <td>2922.0</td>\n",
       "      <td>NaN</td>\n",
       "    </tr>\n",
       "    <tr>\n",
       "      <th>1964-10-01</th>\n",
       "      <td>4301.0</td>\n",
       "      <td>NaN</td>\n",
       "    </tr>\n",
       "    <tr>\n",
       "      <th>1964-11-01</th>\n",
       "      <td>5764.0</td>\n",
       "      <td>NaN</td>\n",
       "    </tr>\n",
       "    <tr>\n",
       "      <th>1964-12-01</th>\n",
       "      <td>7312.0</td>\n",
       "      <td>NaN</td>\n",
       "    </tr>\n",
       "    <tr>\n",
       "      <th>1965-01-01</th>\n",
       "      <td>2541.0</td>\n",
       "      <td>-274.0</td>\n",
       "    </tr>\n",
       "    <tr>\n",
       "      <th>1965-02-01</th>\n",
       "      <td>2475.0</td>\n",
       "      <td>-197.0</td>\n",
       "    </tr>\n",
       "    <tr>\n",
       "      <th>1965-03-01</th>\n",
       "      <td>3031.0</td>\n",
       "      <td>276.0</td>\n",
       "    </tr>\n",
       "    <tr>\n",
       "      <th>1965-04-01</th>\n",
       "      <td>3266.0</td>\n",
       "      <td>545.0</td>\n",
       "    </tr>\n",
       "    <tr>\n",
       "      <th>1965-05-01</th>\n",
       "      <td>3776.0</td>\n",
       "      <td>830.0</td>\n",
       "    </tr>\n",
       "    <tr>\n",
       "      <th>1965-06-01</th>\n",
       "      <td>3230.0</td>\n",
       "      <td>194.0</td>\n",
       "    </tr>\n",
       "    <tr>\n",
       "      <th>1965-07-01</th>\n",
       "      <td>3028.0</td>\n",
       "      <td>746.0</td>\n",
       "    </tr>\n",
       "    <tr>\n",
       "      <th>1965-08-01</th>\n",
       "      <td>1759.0</td>\n",
       "      <td>-453.0</td>\n",
       "    </tr>\n",
       "  </tbody>\n",
       "</table>\n",
       "</div>"
      ],
      "text/plain": [
       "             Sales  Seasonal First Difference\n",
       "Month                                        \n",
       "1964-01-01  2815.0                        NaN\n",
       "1964-02-01  2672.0                        NaN\n",
       "1964-03-01  2755.0                        NaN\n",
       "1964-04-01  2721.0                        NaN\n",
       "1964-05-01  2946.0                        NaN\n",
       "1964-06-01  3036.0                        NaN\n",
       "1964-07-01  2282.0                        NaN\n",
       "1964-08-01  2212.0                        NaN\n",
       "1964-09-01  2922.0                        NaN\n",
       "1964-10-01  4301.0                        NaN\n",
       "1964-11-01  5764.0                        NaN\n",
       "1964-12-01  7312.0                        NaN\n",
       "1965-01-01  2541.0                     -274.0\n",
       "1965-02-01  2475.0                     -197.0\n",
       "1965-03-01  3031.0                      276.0\n",
       "1965-04-01  3266.0                      545.0\n",
       "1965-05-01  3776.0                      830.0\n",
       "1965-06-01  3230.0                      194.0\n",
       "1965-07-01  3028.0                      746.0\n",
       "1965-08-01  1759.0                     -453.0"
      ]
     },
     "execution_count": 28,
     "metadata": {},
     "output_type": "execute_result"
    }
   ],
   "source": [
    "ch.head(20)"
   ]
  },
  {
   "cell_type": "code",
   "execution_count": 29,
   "id": "68b3d14a",
   "metadata": {},
   "outputs": [
    {
     "name": "stdout",
     "output_type": "stream",
     "text": [
      "ADF Test Stats -7.626619157213163\n",
      "pvalue 2.060579696813685e-11\n",
      "lags used 0\n",
      "No of observations used 92\n"
     ]
    }
   ],
   "source": [
    "# Checking for Stationarity\n",
    "\n",
    "adfuller_test(ch[\"Seasonal First Difference\"].dropna())"
   ]
  },
  {
   "cell_type": "code",
   "execution_count": 30,
   "id": "60b26118",
   "metadata": {},
   "outputs": [
    {
     "data": {
      "text/plain": [
       "<AxesSubplot:xlabel='Month'>"
      ]
     },
     "execution_count": 30,
     "metadata": {},
     "output_type": "execute_result"
    },
    {
     "data": {
      "image/png": "[encoded data removed]",
      "text/plain": [
       "<Figure size 432x288 with 1 Axes>"
      ]
     },
     "metadata": {
      "needs_background": "light"
     },
     "output_type": "display_data"
    }
   ],
   "source": [
    "ch[\"Seasonal First Difference\"].plot()"
   ]
  },
  {
   "cell_type": "code",
   "execution_count": 31,
   "id": "1894decb",
   "metadata": {},
   "outputs": [
    {
     "data": {
      "text/html": [
       "<div>\n",
       "<style scoped>\n",
       "    .dataframe tbody tr th:only-of-type {\n",
       "        vertical-align: middle;\n",
       "    }\n",
       "\n",
       "    .dataframe tbody tr th {\n",
       "        vertical-align: top;\n",
       "    }\n",
       "\n",
       "    .dataframe thead th {\n",
       "        text-align: right;\n",
       "    }\n",
       "</style>\n",
       "<table border=\"1\" class=\"dataframe\">\n",
       "  <thead>\n",
       "    <tr style=\"text-align: right;\">\n",
       "      <th></th>\n",
       "      <th>count</th>\n",
       "      <th>mean</th>\n",
       "      <th>std</th>\n",
       "      <th>min</th>\n",
       "      <th>25%</th>\n",
       "      <th>50%</th>\n",
       "      <th>75%</th>\n",
       "      <th>max</th>\n",
       "    </tr>\n",
       "    <tr>\n",
       "      <th>Month</th>\n",
       "      <th></th>\n",
       "      <th></th>\n",
       "      <th></th>\n",
       "      <th></th>\n",
       "      <th></th>\n",
       "      <th></th>\n",
       "      <th></th>\n",
       "      <th></th>\n",
       "    </tr>\n",
       "  </thead>\n",
       "  <tbody>\n",
       "    <tr>\n",
       "      <th>1964-01-01</th>\n",
       "      <td>1.0</td>\n",
       "      <td>2815.0</td>\n",
       "      <td>NaN</td>\n",
       "      <td>2815.0</td>\n",
       "      <td>2815.0</td>\n",
       "      <td>2815.0</td>\n",
       "      <td>2815.0</td>\n",
       "      <td>2815.0</td>\n",
       "    </tr>\n",
       "    <tr>\n",
       "      <th>1964-02-01</th>\n",
       "      <td>1.0</td>\n",
       "      <td>2672.0</td>\n",
       "      <td>NaN</td>\n",
       "      <td>2672.0</td>\n",
       "      <td>2672.0</td>\n",
       "      <td>2672.0</td>\n",
       "      <td>2672.0</td>\n",
       "      <td>2672.0</td>\n",
       "    </tr>\n",
       "    <tr>\n",
       "      <th>1964-03-01</th>\n",
       "      <td>1.0</td>\n",
       "      <td>2755.0</td>\n",
       "      <td>NaN</td>\n",
       "      <td>2755.0</td>\n",
       "      <td>2755.0</td>\n",
       "      <td>2755.0</td>\n",
       "      <td>2755.0</td>\n",
       "      <td>2755.0</td>\n",
       "    </tr>\n",
       "    <tr>\n",
       "      <th>1964-04-01</th>\n",
       "      <td>1.0</td>\n",
       "      <td>2721.0</td>\n",
       "      <td>NaN</td>\n",
       "      <td>2721.0</td>\n",
       "      <td>2721.0</td>\n",
       "      <td>2721.0</td>\n",
       "      <td>2721.0</td>\n",
       "      <td>2721.0</td>\n",
       "    </tr>\n",
       "    <tr>\n",
       "      <th>1964-05-01</th>\n",
       "      <td>1.0</td>\n",
       "      <td>2946.0</td>\n",
       "      <td>NaN</td>\n",
       "      <td>2946.0</td>\n",
       "      <td>2946.0</td>\n",
       "      <td>2946.0</td>\n",
       "      <td>2946.0</td>\n",
       "      <td>2946.0</td>\n",
       "    </tr>\n",
       "    <tr>\n",
       "      <th>...</th>\n",
       "      <td>...</td>\n",
       "      <td>...</td>\n",
       "      <td>...</td>\n",
       "      <td>...</td>\n",
       "      <td>...</td>\n",
       "      <td>...</td>\n",
       "      <td>...</td>\n",
       "      <td>...</td>\n",
       "    </tr>\n",
       "    <tr>\n",
       "      <th>1972-05-01</th>\n",
       "      <td>1.0</td>\n",
       "      <td>4618.0</td>\n",
       "      <td>NaN</td>\n",
       "      <td>4618.0</td>\n",
       "      <td>4618.0</td>\n",
       "      <td>4618.0</td>\n",
       "      <td>4618.0</td>\n",
       "      <td>4618.0</td>\n",
       "    </tr>\n",
       "    <tr>\n",
       "      <th>1972-06-01</th>\n",
       "      <td>1.0</td>\n",
       "      <td>5312.0</td>\n",
       "      <td>NaN</td>\n",
       "      <td>5312.0</td>\n",
       "      <td>5312.0</td>\n",
       "      <td>5312.0</td>\n",
       "      <td>5312.0</td>\n",
       "      <td>5312.0</td>\n",
       "    </tr>\n",
       "    <tr>\n",
       "      <th>1972-07-01</th>\n",
       "      <td>1.0</td>\n",
       "      <td>4298.0</td>\n",
       "      <td>NaN</td>\n",
       "      <td>4298.0</td>\n",
       "      <td>4298.0</td>\n",
       "      <td>4298.0</td>\n",
       "      <td>4298.0</td>\n",
       "      <td>4298.0</td>\n",
       "    </tr>\n",
       "    <tr>\n",
       "      <th>1972-08-01</th>\n",
       "      <td>1.0</td>\n",
       "      <td>1413.0</td>\n",
       "      <td>NaN</td>\n",
       "      <td>1413.0</td>\n",
       "      <td>1413.0</td>\n",
       "      <td>1413.0</td>\n",
       "      <td>1413.0</td>\n",
       "      <td>1413.0</td>\n",
       "    </tr>\n",
       "    <tr>\n",
       "      <th>1972-09-01</th>\n",
       "      <td>1.0</td>\n",
       "      <td>5877.0</td>\n",
       "      <td>NaN</td>\n",
       "      <td>5877.0</td>\n",
       "      <td>5877.0</td>\n",
       "      <td>5877.0</td>\n",
       "      <td>5877.0</td>\n",
       "      <td>5877.0</td>\n",
       "    </tr>\n",
       "  </tbody>\n",
       "</table>\n",
       "<p>105 rows × 8 columns</p>\n",
       "</div>"
      ],
      "text/plain": [
       "            count    mean  std     min     25%     50%     75%     max\n",
       "Month                                                                 \n",
       "1964-01-01    1.0  2815.0  NaN  2815.0  2815.0  2815.0  2815.0  2815.0\n",
       "1964-02-01    1.0  2672.0  NaN  2672.0  2672.0  2672.0  2672.0  2672.0\n",
       "1964-03-01    1.0  2755.0  NaN  2755.0  2755.0  2755.0  2755.0  2755.0\n",
       "1964-04-01    1.0  2721.0  NaN  2721.0  2721.0  2721.0  2721.0  2721.0\n",
       "1964-05-01    1.0  2946.0  NaN  2946.0  2946.0  2946.0  2946.0  2946.0\n",
       "...           ...     ...  ...     ...     ...     ...     ...     ...\n",
       "1972-05-01    1.0  4618.0  NaN  4618.0  4618.0  4618.0  4618.0  4618.0\n",
       "1972-06-01    1.0  5312.0  NaN  5312.0  5312.0  5312.0  5312.0  5312.0\n",
       "1972-07-01    1.0  4298.0  NaN  4298.0  4298.0  4298.0  4298.0  4298.0\n",
       "1972-08-01    1.0  1413.0  NaN  1413.0  1413.0  1413.0  1413.0  1413.0\n",
       "1972-09-01    1.0  5877.0  NaN  5877.0  5877.0  5877.0  5877.0  5877.0\n",
       "\n",
       "[105 rows x 8 columns]"
      ]
     },
     "execution_count": 31,
     "metadata": {},
     "output_type": "execute_result"
    }
   ],
   "source": [
    "#Handy piece of code\n",
    "ch.groupby('Month')['Sales'].describe()\n"
   ]
  },
  {
   "cell_type": "code",
   "execution_count": null,
   "id": "edf04229",
   "metadata": {},
   "outputs": [],
   "source": []
  },
  {
   "cell_type": "code",
   "execution_count": 32,
   "id": "c2412f70",
   "metadata": {},
   "outputs": [],
   "source": [
    "ch.shape\n",
    "\n",
    "train = ch[:85]\n",
    "test = ch[85:]"
   ]
  },
  {
   "cell_type": "code",
   "execution_count": null,
   "id": "30561fe7",
   "metadata": {},
   "outputs": [],
   "source": []
  },
  {
   "cell_type": "code",
   "execution_count": null,
   "id": "0ac19968",
   "metadata": {},
   "outputs": [],
   "source": []
  },
  {
   "cell_type": "code",
   "execution_count": null,
   "id": "e8b966c1",
   "metadata": {},
   "outputs": [],
   "source": []
  },
  {
   "cell_type": "code",
   "execution_count": 33,
   "id": "56a833ce",
   "metadata": {},
   "outputs": [
    {
     "name": "stdout",
     "output_type": "stream",
     "text": [
      "Requirement already satisfied: pmdarima in c:\\users\\rahul\\anaconda3\\lib\\site-packages (1.8.3)\n",
      "Requirement already satisfied: Cython!=0.29.18,>=0.29 in c:\\users\\rahul\\anaconda3\\lib\\site-packages (from pmdarima) (0.29.23)\n",
      "Requirement already satisfied: urllib3 in c:\\users\\rahul\\anaconda3\\lib\\site-packages (from pmdarima) (1.26.4)\n",
      "Requirement already satisfied: scikit-learn>=0.22 in c:\\users\\rahul\\anaconda3\\lib\\site-packages (from pmdarima) (0.24.1)\n",
      "Requirement already satisfied: scipy>=1.3.2 in c:\\users\\rahul\\anaconda3\\lib\\site-packages (from pmdarima) (1.6.2)\n",
      "Requirement already satisfied: pandas>=0.19 in c:\\users\\rahul\\anaconda3\\lib\\site-packages (from pmdarima) (1.2.4)\n",
      "Requirement already satisfied: numpy>=1.19.3 in c:\\users\\rahul\\anaconda3\\lib\\site-packages (from pmdarima) (1.20.1)\n",
      "Requirement already satisfied: statsmodels!=0.12.0,>=0.11 in c:\\users\\rahul\\anaconda3\\lib\\site-packages (from pmdarima) (0.12.2)\n",
      "Requirement already satisfied: joblib>=0.11 in c:\\users\\rahul\\anaconda3\\lib\\site-packages (from pmdarima) (1.0.1)\n",
      "Requirement already satisfied: setuptools!=50.0.0,>=38.6.0 in c:\\users\\rahul\\anaconda3\\lib\\site-packages (from pmdarima) (52.0.0.post20210125)\n",
      "Requirement already satisfied: python-dateutil>=2.7.3 in c:\\users\\rahul\\anaconda3\\lib\\site-packages (from pandas>=0.19->pmdarima) (2.8.1)\n",
      "Requirement already satisfied: pytz>=2017.3 in c:\\users\\rahul\\anaconda3\\lib\\site-packages (from pandas>=0.19->pmdarima) (2021.1)\n",
      "Requirement already satisfied: six>=1.5 in c:\\users\\rahul\\anaconda3\\lib\\site-packages (from python-dateutil>=2.7.3->pandas>=0.19->pmdarima) (1.15.0)\n",
      "Requirement already satisfied: threadpoolctl>=2.0.0 in c:\\users\\rahul\\anaconda3\\lib\\site-packages (from scikit-learn>=0.22->pmdarima) (2.1.0)\n",
      "Requirement already satisfied: patsy>=0.5 in c:\\users\\rahul\\anaconda3\\lib\\site-packages (from statsmodels!=0.12.0,>=0.11->pmdarima) (0.5.1)\n"
     ]
    }
   ],
   "source": [
    "!pip install pmdarima"
   ]
  },
  {
   "cell_type": "code",
   "execution_count": 34,
   "id": "162b6ec5",
   "metadata": {},
   "outputs": [
    {
     "name": "stdout",
     "output_type": "stream",
     "text": [
      "Performing stepwise search to minimize aic\n",
      " ARIMA(2,1,2)(0,0,0)[0] intercept   : AIC=inf, Time=0.34 sec\n",
      " ARIMA(0,1,0)(0,0,0)[0] intercept   : AIC=1205.819, Time=0.01 sec\n",
      " ARIMA(1,1,0)(0,0,0)[0] intercept   : AIC=1194.382, Time=0.03 sec\n",
      " ARIMA(0,1,1)(0,0,0)[0] intercept   : AIC=inf, Time=0.10 sec\n",
      " ARIMA(0,1,0)(0,0,0)[0]             : AIC=1203.852, Time=0.02 sec\n",
      " ARIMA(2,1,0)(0,0,0)[0] intercept   : AIC=1186.164, Time=0.03 sec\n",
      " ARIMA(3,1,0)(0,0,0)[0] intercept   : AIC=1186.810, Time=0.05 sec\n",
      " ARIMA(2,1,1)(0,0,0)[0] intercept   : AIC=inf, Time=0.33 sec\n",
      " ARIMA(1,1,1)(0,0,0)[0] intercept   : AIC=inf, Time=0.24 sec\n",
      " ARIMA(3,1,1)(0,0,0)[0] intercept   : AIC=inf, Time=0.42 sec\n",
      " ARIMA(2,1,0)(0,0,0)[0]             : AIC=1184.172, Time=0.02 sec\n",
      " ARIMA(1,1,0)(0,0,0)[0]             : AIC=1192.408, Time=0.02 sec\n",
      " ARIMA(3,1,0)(0,0,0)[0]             : AIC=1184.800, Time=0.03 sec\n",
      " ARIMA(2,1,1)(0,0,0)[0]             : AIC=1174.455, Time=0.16 sec\n",
      " ARIMA(1,1,1)(0,0,0)[0]             : AIC=1172.661, Time=0.11 sec\n",
      " ARIMA(0,1,1)(0,0,0)[0]             : AIC=1171.141, Time=0.07 sec\n",
      " ARIMA(0,1,2)(0,0,0)[0]             : AIC=1172.592, Time=0.11 sec\n",
      " ARIMA(1,1,2)(0,0,0)[0]             : AIC=inf, Time=0.22 sec\n",
      "\n",
      "Best model:  ARIMA(0,1,1)(0,0,0)[0]          \n",
      "Total fit time: 2.335 seconds\n"
     ]
    },
    {
     "data": {
      "text/html": [
       "<table class=\"simpletable\">\n",
       "<caption>SARIMAX Results</caption>\n",
       "<tr>\n",
       "  <th>Dep. Variable:</th>           <td>y</td>        <th>  No. Observations:  </th>    <td>73</td>   \n",
       "</tr>\n",
       "<tr>\n",
       "  <th>Model:</th>           <td>SARIMAX(0, 1, 1)</td> <th>  Log Likelihood     </th> <td>-583.570</td>\n",
       "</tr>\n",
       "<tr>\n",
       "  <th>Date:</th>            <td>Wed, 27 Oct 2021</td> <th>  AIC                </th> <td>1171.141</td>\n",
       "</tr>\n",
       "<tr>\n",
       "  <th>Time:</th>                <td>11:12:15</td>     <th>  BIC                </th> <td>1175.694</td>\n",
       "</tr>\n",
       "<tr>\n",
       "  <th>Sample:</th>                  <td>0</td>        <th>  HQIC               </th> <td>1172.953</td>\n",
       "</tr>\n",
       "<tr>\n",
       "  <th></th>                       <td> - 73</td>      <th>                     </th>     <td> </td>   \n",
       "</tr>\n",
       "<tr>\n",
       "  <th>Covariance Type:</th>        <td>opg</td>       <th>                     </th>     <td> </td>   \n",
       "</tr>\n",
       "</table>\n",
       "<table class=\"simpletable\">\n",
       "<tr>\n",
       "     <td></td>       <th>coef</th>     <th>std err</th>      <th>z</th>      <th>P>|z|</th>  <th>[0.025</th>    <th>0.975]</th>  \n",
       "</tr>\n",
       "<tr>\n",
       "  <th>ma.L1</th>  <td>   -0.9037</td> <td>    0.050</td> <td>  -18.222</td> <td> 0.000</td> <td>   -1.001</td> <td>   -0.806</td>\n",
       "</tr>\n",
       "<tr>\n",
       "  <th>sigma2</th> <td> 6.305e+05</td> <td> 8.23e+04</td> <td>    7.665</td> <td> 0.000</td> <td> 4.69e+05</td> <td> 7.92e+05</td>\n",
       "</tr>\n",
       "</table>\n",
       "<table class=\"simpletable\">\n",
       "<tr>\n",
       "  <th>Ljung-Box (L1) (Q):</th>     <td>0.31</td> <th>  Jarque-Bera (JB):  </th> <td>5.49</td> \n",
       "</tr>\n",
       "<tr>\n",
       "  <th>Prob(Q):</th>                <td>0.58</td> <th>  Prob(JB):          </th> <td>0.06</td> \n",
       "</tr>\n",
       "<tr>\n",
       "  <th>Heteroskedasticity (H):</th> <td>2.99</td> <th>  Skew:              </th> <td>-0.12</td>\n",
       "</tr>\n",
       "<tr>\n",
       "  <th>Prob(H) (two-sided):</th>    <td>0.01</td> <th>  Kurtosis:          </th> <td>4.33</td> \n",
       "</tr>\n",
       "</table><br/><br/>Warnings:<br/>[1] Covariance matrix calculated using the outer product of gradients (complex-step)."
      ],
      "text/plain": [
       "<class 'statsmodels.iolib.summary.Summary'>\n",
       "\"\"\"\n",
       "                               SARIMAX Results                                \n",
       "==============================================================================\n",
       "Dep. Variable:                      y   No. Observations:                   73\n",
       "Model:               SARIMAX(0, 1, 1)   Log Likelihood                -583.570\n",
       "Date:                Wed, 27 Oct 2021   AIC                           1171.141\n",
       "Time:                        11:12:15   BIC                           1175.694\n",
       "Sample:                             0   HQIC                          1172.953\n",
       "                                 - 73                                         \n",
       "Covariance Type:                  opg                                         \n",
       "==============================================================================\n",
       "                 coef    std err          z      P>|z|      [0.025      0.975]\n",
       "------------------------------------------------------------------------------\n",
       "ma.L1         -0.9037      0.050    -18.222      0.000      -1.001      -0.806\n",
       "sigma2      6.305e+05   8.23e+04      7.665      0.000    4.69e+05    7.92e+05\n",
       "===================================================================================\n",
       "Ljung-Box (L1) (Q):                   0.31   Jarque-Bera (JB):                 5.49\n",
       "Prob(Q):                              0.58   Prob(JB):                         0.06\n",
       "Heteroskedasticity (H):               2.99   Skew:                            -0.12\n",
       "Prob(H) (two-sided):                  0.01   Kurtosis:                         4.33\n",
       "===================================================================================\n",
       "\n",
       "Warnings:\n",
       "[1] Covariance matrix calculated using the outer product of gradients (complex-step).\n",
       "\"\"\""
      ]
     },
     "execution_count": 34,
     "metadata": {},
     "output_type": "execute_result"
    }
   ],
   "source": [
    "from pmdarima import auto_arima\n",
    "stepwise_fit =auto_arima(train[\"Seasonal First Difference\"].dropna(),trace=True,suppress_warnings=True)\n",
    "stepwise_fit.summary()"
   ]
  },
  {
   "cell_type": "code",
   "execution_count": 35,
   "id": "d8a9d338",
   "metadata": {},
   "outputs": [
    {
     "name": "stderr",
     "output_type": "stream",
     "text": [
      "C:\\Users\\rahul\\anaconda3\\lib\\site-packages\\statsmodels\\tsa\\base\\tsa_model.py:524: ValueWarning: No frequency information was provided, so inferred frequency MS will be used.\n",
      "  warnings.warn('No frequency information was'\n",
      "C:\\Users\\rahul\\anaconda3\\lib\\site-packages\\statsmodels\\tsa\\base\\tsa_model.py:524: ValueWarning: No frequency information was provided, so inferred frequency MS will be used.\n",
      "  warnings.warn('No frequency information was'\n"
     ]
    }
   ],
   "source": [
    "import statsmodels.api as sm\n",
    "model =sm.tsa.statespace.SARIMAX(train[\"Seasonal First Difference\"].dropna(),order=(1,1,1),seasonal_order=(1,1,1,12))"
   ]
  },
  {
   "cell_type": "code",
   "execution_count": 36,
   "id": "8c606e4f",
   "metadata": {},
   "outputs": [
    {
     "name": "stderr",
     "output_type": "stream",
     "text": [
      "C:\\Users\\rahul\\anaconda3\\lib\\site-packages\\statsmodels\\base\\model.py:566: ConvergenceWarning: Maximum Likelihood optimization failed to converge. Check mle_retvals\n",
      "  warnings.warn(\"Maximum Likelihood optimization failed to \"\n"
     ]
    }
   ],
   "source": [
    "model_fit = model.fit()\n"
   ]
  },
  {
   "cell_type": "code",
   "execution_count": 37,
   "id": "d45bf2bf",
   "metadata": {},
   "outputs": [
    {
     "name": "stdout",
     "output_type": "stream",
     "text": [
      "                                     SARIMAX Results                                      \n",
      "==========================================================================================\n",
      "Dep. Variable:          Seasonal First Difference   No. Observations:                   73\n",
      "Model:             SARIMAX(1, 1, 1)x(1, 1, 1, 12)   Log Likelihood                -490.433\n",
      "Date:                            Wed, 27 Oct 2021   AIC                            990.866\n",
      "Time:                                    11:12:16   BIC                           1001.338\n",
      "Sample:                                01-01-1965   HQIC                           994.962\n",
      "                                     - 01-01-1971                                         \n",
      "Covariance Type:                              opg                                         \n",
      "==============================================================================\n",
      "                 coef    std err          z      P>|z|      [0.025      0.975]\n",
      "------------------------------------------------------------------------------\n",
      "ar.L1          0.1581      0.142      1.113      0.266      -0.120       0.437\n",
      "ma.L1         -0.9187      0.095     -9.629      0.000      -1.106      -0.732\n",
      "ar.S.L12      -0.5307      0.111     -4.791      0.000      -0.748      -0.314\n",
      "ma.S.L12      -0.9967      0.193     -5.159      0.000      -1.375      -0.618\n",
      "sigma2      4.805e+05   4.05e-07   1.19e+12      0.000    4.81e+05    4.81e+05\n",
      "===================================================================================\n",
      "Ljung-Box (L1) (Q):                   0.07   Jarque-Bera (JB):                 0.56\n",
      "Prob(Q):                              0.79   Prob(JB):                         0.75\n",
      "Heteroskedasticity (H):               3.11   Skew:                            -0.10\n",
      "Prob(H) (two-sided):                  0.01   Kurtosis:                         3.43\n",
      "===================================================================================\n",
      "\n",
      "Warnings:\n",
      "[1] Covariance matrix calculated using the outer product of gradients (complex-step).\n",
      "[2] Covariance matrix is singular or near-singular, with condition number 1.99e+27. Standard errors may be unstable.\n"
     ]
    }
   ],
   "source": [
    "print(model_fit.summary())"
   ]
  },
  {
   "cell_type": "code",
   "execution_count": 38,
   "id": "a7c0d38f",
   "metadata": {},
   "outputs": [
    {
     "data": {
      "image/png": "[encoded data removed]",
      "text/plain": [
       "<Figure size 864x288 with 1 Axes>"
      ]
     },
     "metadata": {
      "needs_background": "light"
     },
     "output_type": "display_data"
    }
   ],
   "source": [
    "#Recover the Original Series and Predictions.\n",
    "\n",
    "y_hat_sarima = train[\"Seasonal First Difference\"].copy()\n",
    "y_hat_sarima['sarima_forecast_diff'] = model_fit.predict(start=test.index.min(),end = test.index.max(),dynamic=False)\n",
    "#y_hat_sarima['sarima_forecast_boxcox'] = y_hat_arima_nine['arima_forecast_boxcox_diff'].cumsum()\n",
    "#y_hat_arima_nine['arima_forecast_boxcox'] = y_hat_arima_nine['arima_forecast_boxcox'].add(train_boxcox_nine['Sales'][0])\n",
    "#y_hat_arima_nine[\"arima_forecast\"] = np.exp(y_hat_arima_nine['arima_forecast_boxcox'])\n",
    "\n",
    "# Plotting Train, Test and Forecast\n",
    "\n",
    "plt.figure(figsize=(12,4))\n",
    "plt.plot(ch['Seasonal First Difference'][:85], label='Train')\n",
    "plt.plot(ch['Seasonal First Difference'][85:], label='Test')\n",
    "plt.plot(y_hat_sarima['sarima_forecast_diff'][test.index.min():], label='SARIMA forecast')\n",
    "plt.legend(loc='best')\n",
    "plt.title('SARIMA Method')\n",
    "plt.show()"
   ]
  },
  {
   "cell_type": "code",
   "execution_count": 39,
   "id": "c282799c",
   "metadata": {},
   "outputs": [
    {
     "ename": "ValueError",
     "evalue": "Found input variables with inconsistent numbers of samples: [20, 0]",
     "output_type": "error",
     "traceback": [
      "\u001b[1;31m---------------------------------------------------------------------------\u001b[0m",
      "\u001b[1;31mValueError\u001b[0m                                Traceback (most recent call last)",
      "\u001b[1;32m<ipython-input-39-a1fe65a2df4d>\u001b[0m in \u001b[0;36m<module>\u001b[1;34m\u001b[0m\n\u001b[0;32m      1\u001b[0m \u001b[1;31m# Metrics\u001b[0m\u001b[1;33m\u001b[0m\u001b[1;33m\u001b[0m\u001b[1;33m\u001b[0m\u001b[0m\n\u001b[0;32m      2\u001b[0m \u001b[1;32mfrom\u001b[0m \u001b[0msklearn\u001b[0m\u001b[1;33m.\u001b[0m\u001b[0mmetrics\u001b[0m \u001b[1;32mimport\u001b[0m \u001b[0mmean_squared_error\u001b[0m\u001b[1;33m\u001b[0m\u001b[1;33m\u001b[0m\u001b[0m\n\u001b[1;32m----> 3\u001b[1;33m \u001b[0mrmse\u001b[0m \u001b[1;33m=\u001b[0m \u001b[0mnp\u001b[0m\u001b[1;33m.\u001b[0m\u001b[0msqrt\u001b[0m\u001b[1;33m(\u001b[0m\u001b[0mmean_squared_error\u001b[0m\u001b[1;33m(\u001b[0m\u001b[0mtest\u001b[0m\u001b[1;33m[\u001b[0m\u001b[1;34m'Seasonal First Difference'\u001b[0m\u001b[1;33m]\u001b[0m\u001b[1;33m,\u001b[0m \u001b[0my_hat_sarima\u001b[0m\u001b[1;33m[\u001b[0m\u001b[1;34m'sarima_forecast_diff'\u001b[0m\u001b[1;33m]\u001b[0m\u001b[1;33m[\u001b[0m\u001b[1;36m85\u001b[0m\u001b[1;33m:\u001b[0m\u001b[1;33m]\u001b[0m\u001b[1;33m)\u001b[0m\u001b[1;33m)\u001b[0m\u001b[1;33m.\u001b[0m\u001b[0mround\u001b[0m\u001b[1;33m(\u001b[0m\u001b[1;36m2\u001b[0m\u001b[1;33m)\u001b[0m\u001b[1;33m\u001b[0m\u001b[1;33m\u001b[0m\u001b[0m\n\u001b[0m\u001b[0;32m      4\u001b[0m \u001b[0mmape\u001b[0m \u001b[1;33m=\u001b[0m \u001b[0mnp\u001b[0m\u001b[1;33m.\u001b[0m\u001b[0mround\u001b[0m\u001b[1;33m(\u001b[0m\u001b[0mnp\u001b[0m\u001b[1;33m.\u001b[0m\u001b[0mmean\u001b[0m\u001b[1;33m(\u001b[0m\u001b[0mnp\u001b[0m\u001b[1;33m.\u001b[0m\u001b[0mabs\u001b[0m\u001b[1;33m(\u001b[0m\u001b[0mtest\u001b[0m\u001b[1;33m[\u001b[0m\u001b[1;34m'Seasonal First Difference'\u001b[0m\u001b[1;33m]\u001b[0m\u001b[1;33m-\u001b[0m\u001b[0my_hat_sarima\u001b[0m\u001b[1;33m[\u001b[0m\u001b[1;34m'sarima_forecast_diff'\u001b[0m\u001b[1;33m]\u001b[0m\u001b[1;33m[\u001b[0m\u001b[1;36m85\u001b[0m\u001b[1;33m:\u001b[0m\u001b[1;33m]\u001b[0m\u001b[1;33m)\u001b[0m\u001b[1;33m/\u001b[0m\u001b[0mtest\u001b[0m\u001b[1;33m[\u001b[0m\u001b[1;34m'Seasonal First Difference'\u001b[0m\u001b[1;33m]\u001b[0m\u001b[1;33m)\u001b[0m\u001b[1;33m*\u001b[0m\u001b[1;36m100\u001b[0m\u001b[1;33m,\u001b[0m\u001b[1;36m2\u001b[0m\u001b[1;33m)\u001b[0m\u001b[1;33m\u001b[0m\u001b[1;33m\u001b[0m\u001b[0m\n\u001b[0;32m      5\u001b[0m \u001b[1;33m\u001b[0m\u001b[0m\n",
      "\u001b[1;32m~\\anaconda3\\lib\\site-packages\\sklearn\\utils\\validation.py\u001b[0m in \u001b[0;36minner_f\u001b[1;34m(*args, **kwargs)\u001b[0m\n\u001b[0;32m     61\u001b[0m             \u001b[0mextra_args\u001b[0m \u001b[1;33m=\u001b[0m \u001b[0mlen\u001b[0m\u001b[1;33m(\u001b[0m\u001b[0margs\u001b[0m\u001b[1;33m)\u001b[0m \u001b[1;33m-\u001b[0m \u001b[0mlen\u001b[0m\u001b[1;33m(\u001b[0m\u001b[0mall_args\u001b[0m\u001b[1;33m)\u001b[0m\u001b[1;33m\u001b[0m\u001b[1;33m\u001b[0m\u001b[0m\n\u001b[0;32m     62\u001b[0m             \u001b[1;32mif\u001b[0m \u001b[0mextra_args\u001b[0m \u001b[1;33m<=\u001b[0m \u001b[1;36m0\u001b[0m\u001b[1;33m:\u001b[0m\u001b[1;33m\u001b[0m\u001b[1;33m\u001b[0m\u001b[0m\n\u001b[1;32m---> 63\u001b[1;33m                 \u001b[1;32mreturn\u001b[0m \u001b[0mf\u001b[0m\u001b[1;33m(\u001b[0m\u001b[1;33m*\u001b[0m\u001b[0margs\u001b[0m\u001b[1;33m,\u001b[0m \u001b[1;33m**\u001b[0m\u001b[0mkwargs\u001b[0m\u001b[1;33m)\u001b[0m\u001b[1;33m\u001b[0m\u001b[1;33m\u001b[0m\u001b[0m\n\u001b[0m\u001b[0;32m     64\u001b[0m \u001b[1;33m\u001b[0m\u001b[0m\n\u001b[0;32m     65\u001b[0m             \u001b[1;31m# extra_args > 0\u001b[0m\u001b[1;33m\u001b[0m\u001b[1;33m\u001b[0m\u001b[1;33m\u001b[0m\u001b[0m\n",
      "\u001b[1;32m~\\anaconda3\\lib\\site-packages\\sklearn\\metrics\\_regression.py\u001b[0m in \u001b[0;36mmean_squared_error\u001b[1;34m(y_true, y_pred, sample_weight, multioutput, squared)\u001b[0m\n\u001b[0;32m    333\u001b[0m     \u001b[1;36m0.825\u001b[0m\u001b[1;33m...\u001b[0m\u001b[1;33m\u001b[0m\u001b[1;33m\u001b[0m\u001b[0m\n\u001b[0;32m    334\u001b[0m     \"\"\"\n\u001b[1;32m--> 335\u001b[1;33m     y_type, y_true, y_pred, multioutput = _check_reg_targets(\n\u001b[0m\u001b[0;32m    336\u001b[0m         y_true, y_pred, multioutput)\n\u001b[0;32m    337\u001b[0m     \u001b[0mcheck_consistent_length\u001b[0m\u001b[1;33m(\u001b[0m\u001b[0my_true\u001b[0m\u001b[1;33m,\u001b[0m \u001b[0my_pred\u001b[0m\u001b[1;33m,\u001b[0m \u001b[0msample_weight\u001b[0m\u001b[1;33m)\u001b[0m\u001b[1;33m\u001b[0m\u001b[1;33m\u001b[0m\u001b[0m\n",
      "\u001b[1;32m~\\anaconda3\\lib\\site-packages\\sklearn\\metrics\\_regression.py\u001b[0m in \u001b[0;36m_check_reg_targets\u001b[1;34m(y_true, y_pred, multioutput, dtype)\u001b[0m\n\u001b[0;32m     86\u001b[0m         \u001b[0mthe\u001b[0m \u001b[0mdtype\u001b[0m \u001b[0margument\u001b[0m \u001b[0mpassed\u001b[0m \u001b[0mto\u001b[0m \u001b[0mcheck_array\u001b[0m\u001b[1;33m.\u001b[0m\u001b[1;33m\u001b[0m\u001b[1;33m\u001b[0m\u001b[0m\n\u001b[0;32m     87\u001b[0m     \"\"\"\n\u001b[1;32m---> 88\u001b[1;33m     \u001b[0mcheck_consistent_length\u001b[0m\u001b[1;33m(\u001b[0m\u001b[0my_true\u001b[0m\u001b[1;33m,\u001b[0m \u001b[0my_pred\u001b[0m\u001b[1;33m)\u001b[0m\u001b[1;33m\u001b[0m\u001b[1;33m\u001b[0m\u001b[0m\n\u001b[0m\u001b[0;32m     89\u001b[0m     \u001b[0my_true\u001b[0m \u001b[1;33m=\u001b[0m \u001b[0mcheck_array\u001b[0m\u001b[1;33m(\u001b[0m\u001b[0my_true\u001b[0m\u001b[1;33m,\u001b[0m \u001b[0mensure_2d\u001b[0m\u001b[1;33m=\u001b[0m\u001b[1;32mFalse\u001b[0m\u001b[1;33m,\u001b[0m \u001b[0mdtype\u001b[0m\u001b[1;33m=\u001b[0m\u001b[0mdtype\u001b[0m\u001b[1;33m)\u001b[0m\u001b[1;33m\u001b[0m\u001b[1;33m\u001b[0m\u001b[0m\n\u001b[0;32m     90\u001b[0m     \u001b[0my_pred\u001b[0m \u001b[1;33m=\u001b[0m \u001b[0mcheck_array\u001b[0m\u001b[1;33m(\u001b[0m\u001b[0my_pred\u001b[0m\u001b[1;33m,\u001b[0m \u001b[0mensure_2d\u001b[0m\u001b[1;33m=\u001b[0m\u001b[1;32mFalse\u001b[0m\u001b[1;33m,\u001b[0m \u001b[0mdtype\u001b[0m\u001b[1;33m=\u001b[0m\u001b[0mdtype\u001b[0m\u001b[1;33m)\u001b[0m\u001b[1;33m\u001b[0m\u001b[1;33m\u001b[0m\u001b[0m\n",
      "\u001b[1;32m~\\anaconda3\\lib\\site-packages\\sklearn\\utils\\validation.py\u001b[0m in \u001b[0;36mcheck_consistent_length\u001b[1;34m(*arrays)\u001b[0m\n\u001b[0;32m    260\u001b[0m     \u001b[0muniques\u001b[0m \u001b[1;33m=\u001b[0m \u001b[0mnp\u001b[0m\u001b[1;33m.\u001b[0m\u001b[0munique\u001b[0m\u001b[1;33m(\u001b[0m\u001b[0mlengths\u001b[0m\u001b[1;33m)\u001b[0m\u001b[1;33m\u001b[0m\u001b[1;33m\u001b[0m\u001b[0m\n\u001b[0;32m    261\u001b[0m     \u001b[1;32mif\u001b[0m \u001b[0mlen\u001b[0m\u001b[1;33m(\u001b[0m\u001b[0muniques\u001b[0m\u001b[1;33m)\u001b[0m \u001b[1;33m>\u001b[0m \u001b[1;36m1\u001b[0m\u001b[1;33m:\u001b[0m\u001b[1;33m\u001b[0m\u001b[1;33m\u001b[0m\u001b[0m\n\u001b[1;32m--> 262\u001b[1;33m         raise ValueError(\"Found input variables with inconsistent numbers of\"\n\u001b[0m\u001b[0;32m    263\u001b[0m                          \" samples: %r\" % [int(l) for l in lengths])\n\u001b[0;32m    264\u001b[0m \u001b[1;33m\u001b[0m\u001b[0m\n",
      "\u001b[1;31mValueError\u001b[0m: Found input variables with inconsistent numbers of samples: [20, 0]"
     ]
    }
   ],
   "source": [
    "# Metrics \n",
    "from sklearn.metrics import mean_squared_error\n",
    "rmse = np.sqrt(mean_squared_error(test['Seasonal First Difference'], y_hat_sarima['sarima_forecast_diff'][85:])).round(2)\n",
    "mape = np.round(np.mean(np.abs(test['Seasonal First Difference']-y_hat_sarima['sarima_forecast_diff'][85:])/test['Seasonal First Difference'])*100,2)\n",
    "\n",
    "tempResults = pd.DataFrame({'Method':['SARIMA method'], 'RMSE': [rmse],'MAPE': [mape] })\n",
    "results = pd.DataFrame(tempResults)\n",
    "results = results[['Method', 'RMSE', 'MAPE']]\n",
    "results"
   ]
  },
  {
   "cell_type": "code",
   "execution_count": 40,
   "id": "70c0cc22",
   "metadata": {},
   "outputs": [],
   "source": [
    "from pandas.tseries.offsets import DateOffset"
   ]
  },
  {
   "cell_type": "code",
   "execution_count": 41,
   "id": "fcd0efaa",
   "metadata": {},
   "outputs": [],
   "source": [
    "future_dates = [ch.index[-1]+DateOffset(months=x) for x in range(0,24)]"
   ]
  },
  {
   "cell_type": "code",
   "execution_count": 42,
   "id": "02858c46",
   "metadata": {},
   "outputs": [],
   "source": [
    "future_dates_df = pd.DataFrame(index=future_dates[1:],columns=ch.columns)"
   ]
  },
  {
   "cell_type": "code",
   "execution_count": 43,
   "id": "83911c72",
   "metadata": {},
   "outputs": [
    {
     "data": {
      "text/html": [
       "<div>\n",
       "<style scoped>\n",
       "    .dataframe tbody tr th:only-of-type {\n",
       "        vertical-align: middle;\n",
       "    }\n",
       "\n",
       "    .dataframe tbody tr th {\n",
       "        vertical-align: top;\n",
       "    }\n",
       "\n",
       "    .dataframe thead th {\n",
       "        text-align: right;\n",
       "    }\n",
       "</style>\n",
       "<table border=\"1\" class=\"dataframe\">\n",
       "  <thead>\n",
       "    <tr style=\"text-align: right;\">\n",
       "      <th></th>\n",
       "      <th>Sales</th>\n",
       "      <th>Seasonal First Difference</th>\n",
       "    </tr>\n",
       "  </thead>\n",
       "  <tbody>\n",
       "    <tr>\n",
       "      <th>1974-04-01</th>\n",
       "      <td>NaN</td>\n",
       "      <td>NaN</td>\n",
       "    </tr>\n",
       "    <tr>\n",
       "      <th>1974-05-01</th>\n",
       "      <td>NaN</td>\n",
       "      <td>NaN</td>\n",
       "    </tr>\n",
       "    <tr>\n",
       "      <th>1974-06-01</th>\n",
       "      <td>NaN</td>\n",
       "      <td>NaN</td>\n",
       "    </tr>\n",
       "    <tr>\n",
       "      <th>1974-07-01</th>\n",
       "      <td>NaN</td>\n",
       "      <td>NaN</td>\n",
       "    </tr>\n",
       "    <tr>\n",
       "      <th>1974-08-01</th>\n",
       "      <td>NaN</td>\n",
       "      <td>NaN</td>\n",
       "    </tr>\n",
       "  </tbody>\n",
       "</table>\n",
       "</div>"
      ],
      "text/plain": [
       "           Sales Seasonal First Difference\n",
       "1974-04-01   NaN                       NaN\n",
       "1974-05-01   NaN                       NaN\n",
       "1974-06-01   NaN                       NaN\n",
       "1974-07-01   NaN                       NaN\n",
       "1974-08-01   NaN                       NaN"
      ]
     },
     "execution_count": 43,
     "metadata": {},
     "output_type": "execute_result"
    }
   ],
   "source": [
    "future_dates_df.tail()"
   ]
  },
  {
   "cell_type": "code",
   "execution_count": 44,
   "id": "dac2ba83",
   "metadata": {},
   "outputs": [],
   "source": [
    "new_ch =pd.concat([ch,future_dates_df])"
   ]
  },
  {
   "cell_type": "code",
   "execution_count": 45,
   "id": "eaae48fc",
   "metadata": {},
   "outputs": [
    {
     "name": "stderr",
     "output_type": "stream",
     "text": [
      "C:\\Users\\rahul\\anaconda3\\lib\\site-packages\\statsmodels\\tsa\\statespace\\kalman_filter.py:2290: ValueWarning: Dynamic prediction specified to begin during out-of-sample forecasting period, and so has no effect.\n",
      "  warn('Dynamic prediction specified to begin during'\n"
     ]
    }
   ],
   "source": [
    "new_ch[\"forecast\"] = model_fit.predict(start=104,end=120,dynamic=True)"
   ]
  },
  {
   "cell_type": "code",
   "execution_count": 46,
   "id": "aa6d37ce",
   "metadata": {},
   "outputs": [
    {
     "data": {
      "text/plain": [
       "<AxesSubplot:>"
      ]
     },
     "execution_count": 46,
     "metadata": {},
     "output_type": "execute_result"
    },
    {
     "data": {
      "image/png": "[encoded data removed]",
      "text/plain": [
       "<Figure size 432x288 with 1 Axes>"
      ]
     },
     "metadata": {
      "needs_background": "light"
     },
     "output_type": "display_data"
    }
   ],
   "source": [
    "new_ch[[\"Sales\",\"forecast\"]].plot()"
   ]
  },
  {
   "cell_type": "code",
   "execution_count": null,
   "id": "d6b3a5fc",
   "metadata": {},
   "outputs": [],
   "source": [
    "# Have to tune the model"
   ]
  }
 ],
 "metadata": {
  "kernelspec": {
   "display_name": "Python 3",
   "language": "python",
   "name": "python3"
  },
  "language_info": {
   "codemirror_mode": {
    "name": "ipython",
    "version": 3
   },
   "file_extension": ".py",
   "mimetype": "text/x-python",
   "name": "python",
   "nbconvert_exporter": "python",
   "pygments_lexer": "ipython3",
   "version": "3.8.8"
  }
 },
 "nbformat": 4,
 "nbformat_minor": 5
}
